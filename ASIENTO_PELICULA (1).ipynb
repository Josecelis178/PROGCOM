{
  "nbformat": 4,
  "nbformat_minor": 0,
  "metadata": {
    "colab": {
      "provenance": []
    },
    "kernelspec": {
      "name": "python3",
      "display_name": "Python 3"
    },
    "language_info": {
      "name": "python"
    }
  },
  "cells": [
    {
      "cell_type": "code",
      "execution_count": 8,
      "metadata": {
        "colab": {
          "base_uri": "https://localhost:8080/"
        },
        "id": "6IcCJb_sXxMz",
        "outputId": "aa3058bd-cd6c-470f-c1f7-76f39762d3be"
      },
      "outputs": [
        {
          "output_type": "stream",
          "name": "stdout",
          "text": [
            "Selecciona una sala:\n",
            "1. Sala 1\n",
            "2. Sala 2\n",
            "Ingresa el número de la sala: 1\n",
            "Asientos disponibles:\n",
            "   0 1 2 3 4\n",
            "0 P P O O O \n",
            "1 P P O O O \n",
            "2 P P O O O \n",
            "3 P P O O O \n",
            "4 P P O O O \n",
            "Elige la fila (0-4): 4\n",
            "Elige la columna (0-4): 4\n",
            "Has elegido el asiento en fila 4 columna 4\n",
            "¿Quieres elegir otro asiento en esta sala? (s/n): m\n",
            "¿Quieres elegir una sala diferente? (s/n): n\n",
            "Gracias por tu elección. ¡Disfruta la película!\n"
          ]
        }
      ],
      "source": [
        "# Inicializamos las salas de cine\n",
        "salas = {\n",
        "    \"Sala 1\": [['O' for _ in range(5)] for _ in range(5)],\n",
        "    \"Sala 2\": [['O' for _ in range(5)] for _ in range(5)],\n",
        "}\n",
        "\n",
        "# Marcamos los asientos preferenciales (primeros 2 de cada fila en cada sala)\n",
        "for sala in salas.values():\n",
        "    for i in range(len(sala)):\n",
        "        for j in range(2):\n",
        "            sala[i][j] = 'P'\n",
        "\n",
        "def mostrar_asientos(sala):\n",
        "    print(\"Asientos disponibles:\")\n",
        "    print(\"   \" + \" \".join([str(i) for i in range(5)]))  # Números de columna\n",
        "    for i in range(5):\n",
        "        print(i, end=' ')  # Número de fila\n",
        "        for j in range(5):\n",
        "            print(sala[i][j], end=' ')\n",
        "        print()  # Nueva línea al final de cada fila\n",
        "\n",
        "def elegir_asiento(sala):\n",
        "    while True:\n",
        "        try:\n",
        "            fila = int(input(\"Elige la fila (0-4): \"))\n",
        "            columna = int(input(\"Elige la columna (0-4): \"))\n",
        "            if sala[fila][columna] in ['O', 'P']:\n",
        "                sala[fila][columna] = 'X'  # 'X' significa asiento ocupado\n",
        "                print(\"Has elegido el asiento en fila\", fila, \"columna\", columna)\n",
        "                break\n",
        "            else:\n",
        "                print(\"Ese asiento ya está ocupado. Elige otro.\")\n",
        "        except (IndexError, ValueError):\n",
        "            print(\"Entrada inválida. Por favor, elige un número entre 0 y 4.\")\n",
        "\n",
        "def elegir_sala():\n",
        "    print(\"Selecciona una sala:\")\n",
        "    for i, sala in enumerate(salas.keys()):\n",
        "        print(f\"{i + 1}. {sala}\")\n",
        "\n",
        "    while True:\n",
        "        try:\n",
        "            seleccion = int(input(\"Ingresa el número de la sala: \")) - 1\n",
        "            if 0 <= seleccion < len(salas):\n",
        "                return list(salas.values())[seleccion]\n",
        "            else:\n",
        "                print(\"Sala inválida. Por favor, intenta de nuevo.\")\n",
        "        except ValueError:\n",
        "            print(\"Entrada inválida. Por favor, ingresa un número.\")\n",
        "\n",
        "def main():\n",
        "    while True:\n",
        "        sala_seleccionada = elegir_sala()\n",
        "        while True:\n",
        "            mostrar_asientos(sala_seleccionada)\n",
        "            elegir_asiento(sala_seleccionada)\n",
        "            continuar = input(\"¿Quieres elegir otro asiento en esta sala? (s/n): \")\n",
        "            if continuar.lower() != 's':\n",
        "                break\n",
        "        otra_sala = input(\"¿Quieres elegir una sala diferente? (s/n): \")\n",
        "        if otra_sala.lower() != 's':\n",
        "            print(\"Gracias por tu elección. ¡Disfruta la película!\")\n",
        "            break\n",
        "\n",
        "if __name__ == \"__main__\":\n",
        "    main()\n"
      ]
    }
  ]
}