{
  "cells": [
    {
      "cell_type": "markdown",
      "metadata": {
        "id": "HWVVLyCTH6fj"
      },
      "source": [
        "#Ejercicio 1: Indicar si un número N es un número primo"
      ]
    },
    {
      "cell_type": "code",
      "execution_count": null,
      "metadata": {
        "colab": {
          "base_uri": "https://localhost:8080/"
        },
        "id": "GZ13xwUJH9dp",
        "outputId": "b9f00c13-755a-478a-da54-03a8b0425f4c"
      },
      "outputs": [
        {
          "name": "stdout",
          "output_type": "stream",
          "text": [
            "Introduce un número: 5\n",
            "5 es primo\n"
          ]
        }
      ],
      "source": [
        "#WHILE\n",
        "n = int(input(\"Introduce un número: \"))\n",
        "es_primo = True\n",
        "i = 2\n",
        "\n",
        "while i < n:\n",
        "    if n % i == 0:\n",
        "        es_primo = False\n",
        "        break\n",
        "    i += 1\n",
        "\n",
        "if es_primo:\n",
        "    print(f\"{n} es primo\")\n",
        "else:\n",
        "    print(f\"{n} no es primo\")\n"
      ]
    },
    {
      "cell_type": "code",
      "execution_count": null,
      "metadata": {
        "colab": {
          "base_uri": "https://localhost:8080/"
        },
        "id": "yOuohPrmIBz5",
        "outputId": "026950c4-0dc7-4994-875c-e1804721a912"
      },
      "outputs": [
        {
          "name": "stdout",
          "output_type": "stream",
          "text": [
            "Introduce un número: 5\n",
            "5 es primo\n"
          ]
        }
      ],
      "source": [
        "#FOR\n",
        "n = int(input(\"Introduce un número: \"))\n",
        "es_primo = True\n",
        "\n",
        "for i in range(2, n):\n",
        "    if n % i == 0:\n",
        "        es_primo = False\n",
        "        break\n",
        "\n",
        "if es_primo:\n",
        "    print(f\"{n} es primo\")\n",
        "else:\n",
        "    print(f\"{n} no es primo\")\n"
      ]
    },
    {
      "cell_type": "markdown",
      "metadata": {
        "id": "Q1v-nUaVIPr5"
      },
      "source": [
        "#Ejercicio 2: Imprimir los 30 primeros números de Fibonacci"
      ]
    },
    {
      "cell_type": "code",
      "execution_count": null,
      "metadata": {
        "colab": {
          "base_uri": "https://localhost:8080/"
        },
        "id": "dXLbnisrITch",
        "outputId": "7f7d7e6e-c182-43d7-800f-dacf623e1161"
      },
      "outputs": [
        {
          "name": "stdout",
          "output_type": "stream",
          "text": [
            "0 1 1 2 3 5 8 13 21 34 55 89 144 233 377 610 987 1597 2584 4181 6765 10946 17711 28657 46368 75025 121393 196418 317811 514229 "
          ]
        }
      ],
      "source": [
        "#WHILE\n",
        "a, b = 0, 1\n",
        "contador = 0\n",
        "\n",
        "while contador < 30:\n",
        "    print(a, end=\" \")\n",
        "    a, b = b, a + b\n",
        "    contador += 1\n"
      ]
    },
    {
      "cell_type": "code",
      "execution_count": null,
      "metadata": {
        "colab": {
          "base_uri": "https://localhost:8080/"
        },
        "id": "gZURZiDSIXdf",
        "outputId": "39f0a5d9-872d-4555-c9a8-80f60ac46da1"
      },
      "outputs": [
        {
          "name": "stdout",
          "output_type": "stream",
          "text": [
            "0 1 1 2 3 5 8 13 21 34 55 89 144 233 377 610 987 1597 2584 4181 6765 10946 17711 28657 46368 75025 121393 196418 317811 514229 "
          ]
        }
      ],
      "source": [
        "#FOR\n",
        "a, b = 0, 1\n",
        "\n",
        "for _ in range(30):\n",
        "    print(a, end=\" \")\n",
        "    a, b = b, a + b\n"
      ]
    },
    {
      "cell_type": "markdown",
      "metadata": {
        "id": "Ph7XwdoUIaDk"
      },
      "source": [
        "#Ejercicio 3: Calcular el factorial de un número N"
      ]
    },
    {
      "cell_type": "code",
      "execution_count": null,
      "metadata": {
        "colab": {
          "base_uri": "https://localhost:8080/"
        },
        "id": "IRKWoS7zIrGE",
        "outputId": "31e99127-f7d5-4803-f5ea-f7fee4d20719"
      },
      "outputs": [
        {
          "name": "stdout",
          "output_type": "stream",
          "text": [
            "Introduce un número: 58\n",
            "El factorial de 58 es 2350561331282878571829474910515074683828862318181142924420699914240000000000000\n"
          ]
        }
      ],
      "source": [
        "#WHILE\n",
        "n = int(input(\"Introduce un número: \"))\n",
        "factorial = 1\n",
        "i = 1\n",
        "\n",
        "while i <= n:\n",
        "    factorial *= i\n",
        "    i += 1\n",
        "\n",
        "print(f\"El factorial de {n} es {factorial}\")\n"
      ]
    },
    {
      "cell_type": "code",
      "execution_count": null,
      "metadata": {
        "colab": {
          "base_uri": "https://localhost:8080/"
        },
        "id": "wSvsJjERI7nA",
        "outputId": "2a007fb4-3f0c-494e-fd98-50b1dd9d0f8f"
      },
      "outputs": [
        {
          "name": "stdout",
          "output_type": "stream",
          "text": [
            "Introduce un número: 7\n",
            "El factorial de 7 es 5040\n"
          ]
        }
      ],
      "source": [
        "#FOR\n",
        "n = int(input(\"Introduce un número: \"))\n",
        "factorial = 1\n",
        "\n",
        "for i in range(1, n + 1):\n",
        "    factorial *= i\n",
        "\n",
        "print(f\"El factorial de {n} es {factorial}\")\n"
      ]
    },
    {
      "cell_type": "markdown",
      "metadata": {
        "id": "HSgQ_8ogJNOI"
      },
      "source": [
        "#Ejercicio 4: Calcular el factorial de 10 números diferentes"
      ]
    },
    {
      "cell_type": "code",
      "execution_count": null,
      "metadata": {
        "colab": {
          "background_save": true,
          "base_uri": "https://localhost:8080/"
        },
        "id": "Wz40po1_JQk4",
        "outputId": "84690748-7cd3-4ff9-e78c-0b828056f080"
      },
      "outputs": [
        {
          "name": "stdout",
          "output_type": "stream",
          "text": [
            "El factorial de 6 es 720\n",
            "El factorial de 8 es 40320\n",
            "El factorial de 0 es 1\n",
            "El factorial de 8 es 40320\n"
          ]
        }
      ],
      "source": [
        "#WHILE\n",
        "contador = 0\n",
        "\n",
        "while contador < 10:\n",
        "    n = int(input(\"Introduce un número: \"))\n",
        "    factorial = 1\n",
        "    i = 1\n",
        "    while i <= n:\n",
        "        factorial *= i\n",
        "        i += 1\n",
        "    print(f\"El factorial de {n} es {factorial}\")\n",
        "    contador += 1\n"
      ]
    },
    {
      "cell_type": "code",
      "execution_count": null,
      "metadata": {
        "id": "1EObkUchJW30"
      },
      "outputs": [],
      "source": [
        "#FOR\n",
        "for _ in range(10):\n",
        "    n = int(input(\"Introduce un número: \"))\n",
        "    factorial = 1\n",
        "    for i in range(1, n + 1):\n",
        "        factorial *= i\n",
        "    print(f\"El factorial de {n} es {factorial}\")\n"
      ]
    },
    {
      "cell_type": "markdown",
      "metadata": {
        "id": "uxVDLsPKJarn"
      },
      "source": [
        "#Leer 20 números y encontrar el mayor y el menor valor leídos"
      ]
    },
    {
      "cell_type": "code",
      "execution_count": null,
      "metadata": {
        "id": "D4QvBohhJg3W"
      },
      "outputs": [],
      "source": [
        "#WHILE\n",
        "contador = 0\n",
        "mayor = float('-inf')\n",
        "menor = float('inf')\n",
        "\n",
        "while contador < 20:\n",
        "    numero = int(input(\"Introduce un número: \"))\n",
        "    if numero > mayor:\n",
        "        mayor = numero\n",
        "    if numero < menor:\n",
        "        menor = numero\n",
        "    contador += 1\n",
        "\n",
        "print(f\"El mayor número es: {mayor}\")\n",
        "print(f\"El menor número es: {menor}\")\n"
      ]
    },
    {
      "cell_type": "code",
      "execution_count": null,
      "metadata": {
        "id": "TI0WYd-QJjn6"
      },
      "outputs": [],
      "source": [
        "#FOR\n",
        "mayor = float('-inf')\n",
        "menor = float('inf')\n",
        "\n",
        "for _ in range(20):\n",
        "    numero = int(input(\"Introduce un número: \"))\n",
        "    if numero > mayor:\n",
        "        mayor = numero\n",
        "    if numero < menor:\n",
        "        menor = numero\n",
        "\n",
        "print(f\"El mayor número es: {mayor}\")\n",
        "print(f\"El menor número es: {menor}\")\n"
      ]
    },
    {
      "cell_type": "markdown",
      "metadata": {
        "id": "e9h8luvDJmp1"
      },
      "source": [
        "#Ejercicio 6: Mostrar la tabla de multiplicar del número que seleccione el usuario (1 a 10)"
      ]
    },
    {
      "cell_type": "code",
      "execution_count": null,
      "metadata": {
        "id": "3V3-a5UXJpZ5"
      },
      "outputs": [],
      "source": [
        "#WHILE\n",
        "n = int(input(\"Introduce un número entre 1 y 10: \"))\n",
        "\n",
        "while n < 1 or n > 10:\n",
        "    n = int(input(\"Introduce un número válido entre 1 y 10: \"))\n",
        "\n",
        "i = 1\n",
        "while i <= 10:\n",
        "    print(f\"{n} x {i} = {n * i}\")\n",
        "    i += 1\n"
      ]
    },
    {
      "cell_type": "code",
      "execution_count": null,
      "metadata": {
        "id": "HYqp0pUwJsbm"
      },
      "outputs": [],
      "source": [
        "#FOR\n",
        "n = int(input(\"Introduce un número entre 1 y 10: \"))\n",
        "\n",
        "while n < 1 or n > 10:\n",
        "    n = int(input(\"Introduce un número válido entre 1 y 10: \"))\n",
        "\n",
        "for i in range(1, 11):\n",
        "    print(f\"{n} x {i} = {n * i}\")\n"
      ]
    },
    {
      "cell_type": "markdown",
      "metadata": {
        "id": "jdgZEO1NJv7g"
      },
      "source": [
        "#Ejercicio 7: Calcular la suma 100+90+80+70+…+0"
      ]
    },
    {
      "cell_type": "code",
      "execution_count": null,
      "metadata": {
        "id": "ALr-uqyyJyxD"
      },
      "outputs": [],
      "source": [
        "#WHILE\n",
        "suma = 0\n",
        "i = 100\n",
        "\n",
        "while i >= 0:\n",
        "    suma += i\n",
        "    i -= 10\n",
        "\n",
        "print(f\"La suma es: {suma}\")\n"
      ]
    },
    {
      "cell_type": "code",
      "execution_count": null,
      "metadata": {
        "id": "pQeAKA_2J3WR"
      },
      "outputs": [],
      "source": [
        "#FOR\n",
        "suma = 0\n",
        "\n",
        "for i in range(100, -1, -10):\n",
        "    suma += i\n",
        "\n",
        "print(f\"La suma es: {suma}\")\n"
      ]
    },
    {
      "cell_type": "markdown",
      "metadata": {
        "id": "D2buobUNJ6P0"
      },
      "source": [
        "#Ejercicio 8: Calcular la serie\n",
        "1\n",
        "−\n",
        "1\n",
        "2\n",
        "+\n",
        "1\n",
        "3\n",
        "−\n",
        "1\n",
        "4\n",
        "+\n",
        ".\n",
        ".\n",
        ".\n",
        "±\n",
        "1\n",
        "𝑁\n",
        "1−\n",
        "2\n",
        "1\n",
        "​\n",
        " +\n",
        "3\n",
        "1\n",
        "​\n",
        " −\n",
        "4\n",
        "1\n",
        "​\n",
        " +...±\n",
        "N\n",
        "1\n",
        "​\n"
      ]
    },
    {
      "cell_type": "code",
      "execution_count": null,
      "metadata": {
        "id": "-FUtN7DsJ_Mk"
      },
      "outputs": [],
      "source": [
        "#WHILE\n",
        "n = int(input(\"Introduce un número: \"))\n",
        "resultado = 0\n",
        "i = 1\n",
        "\n",
        "while i <= n:\n",
        "    if i % 2 == 0:\n",
        "        resultado -= 1/i\n",
        "    else:\n",
        "        resultado += 1/i\n",
        "    i += 1\n",
        "\n",
        "print(f\"El resultado de la serie es: {resultado}\")\n"
      ]
    },
    {
      "cell_type": "code",
      "execution_count": null,
      "metadata": {
        "id": "HLZbHa2xKULh"
      },
      "outputs": [],
      "source": [
        "#FOR\n",
        "n = int(input(\"Introduce un número: \"))\n",
        "resultado = 0\n",
        "\n",
        "for i in range(1, n + 1):\n",
        "    if i % 2 == 0:\n",
        "        resultado -= 1/i\n",
        "    else:\n",
        "        resultado += 1/i\n",
        "\n",
        "print(f\"El resultado de la serie es: {resultado}\")\n"
      ]
    },
    {
      "cell_type": "markdown",
      "metadata": {
        "id": "oiq6k7hcKw5U"
      },
      "source": [
        "#Ejercicio 9: Calcular la serie\n",
        "2\n",
        "1\n",
        "+\n",
        "4\n",
        "3\n",
        "+\n",
        "6\n",
        "5\n",
        "+\n",
        ".\n",
        ".\n",
        ".\n",
        "+\n",
        "12\n",
        "11\n",
        "+\n",
        ".\n",
        ".\n",
        ".\n",
        "1\n",
        "2\n",
        "​\n",
        " +\n",
        "3\n",
        "4\n",
        "​\n",
        " +\n",
        "5\n",
        "6\n",
        "​\n",
        " +...+\n",
        "11\n",
        "12\n",
        "​\n",
        " +... hasta N valores"
      ]
    },
    {
      "cell_type": "code",
      "execution_count": null,
      "metadata": {
        "id": "IUdaU3ruK5RY"
      },
      "outputs": [],
      "source": [
        "#WHILE\n",
        "n = int(input(\"Introduce un número: \"))\n",
        "resultado = 0\n",
        "numerador = 2\n",
        "denominador = 1\n",
        "contador = 0\n",
        "\n",
        "while contador < n:\n",
        "    resultado += numerador / denominador\n",
        "    numerador += 2\n",
        "    denominador += 2\n",
        "    contador += 1\n",
        "\n",
        "print(f\"El resultado de la serie es: {resultado}\")\n"
      ]
    },
    {
      "cell_type": "code",
      "execution_count": null,
      "metadata": {
        "id": "pT2ubAayK7w6"
      },
      "outputs": [],
      "source": [
        "#\n",
        "n = int(input(\"Introduce un número: \"))\n",
        "resultado = 0\n",
        "numerador = 2\n",
        "denominador = 1\n",
        "\n",
        "for _ in range(n):\n",
        "    resultado += numerador / denominador\n",
        "    numerador += 2\n",
        "    denominador += 2\n",
        "\n",
        "print(f\"El resultado de la serie es: {resultado}\")\n"
      ]
    },
    {
      "cell_type": "markdown",
      "metadata": {
        "id": "3K9RzWuALC30"
      },
      "source": [
        "#Ejercicio 10: Multiplicar los números en el rango 1-10 hasta que el usuario introduzca un número fuera del rango"
      ]
    },
    {
      "cell_type": "code",
      "execution_count": null,
      "metadata": {
        "id": "0ik9m-6sLEJv"
      },
      "outputs": [],
      "source": [
        "producto = 1\n",
        "numero = int(input(\"Introduce un número (entre 1 y 10): \"))\n",
        "\n",
        "while 1 <= numero <= 10:\n",
        "    producto *= numero\n",
        "    numero = int(input(\"Introduce otro número (entre 1 y 10): \"))\n",
        "\n",
        "print(f\"El producto de los números es: {producto}\")\n"
      ]
    }
  ],
  "metadata": {
    "colab": {
      "collapsed_sections": [
        "HWVVLyCTH6fj",
        "Q1v-nUaVIPr5",
        "Ph7XwdoUIaDk",
        "HSgQ_8ogJNOI",
        "uxVDLsPKJarn",
        "e9h8luvDJmp1",
        "jdgZEO1NJv7g",
        "D2buobUNJ6P0",
        "oiq6k7hcKw5U",
        "3K9RzWuALC30"
      ],
      "provenance": []
    },
    "kernelspec": {
      "display_name": "Python 3",
      "name": "python3"
    },
    "language_info": {
      "name": "python"
    }
  },
  "nbformat": 4,
  "nbformat_minor": 0
}