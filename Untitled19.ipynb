{
  "nbformat": 4,
  "nbformat_minor": 0,
  "metadata": {
    "colab": {
      "provenance": []
    },
    "kernelspec": {
      "name": "python3",
      "display_name": "Python 3"
    },
    "language_info": {
      "name": "python"
    }
  },
  "cells": [
    {
      "cell_type": "code",
      "execution_count": 1,
      "metadata": {
        "colab": {
          "base_uri": "https://localhost:8080/"
        },
        "id": "PX8Rg9eVIX2b",
        "outputId": "4cad3d05-5a2f-4bce-aea7-e1410fcd3b15"
      },
      "outputs": [
        {
          "output_type": "stream",
          "name": "stdout",
          "text": [
            "\n",
            "REPORTE DE CALIFICACIONES\n",
            "NOMBRE               NOTA1  NOTA2  NOTA3  NOTA FINAL\n",
            "Estudiante_1         57     77     88     NA        \n",
            "Estudiante_2         85     83     99     89.0      \n",
            "Estudiante_3         73     52     94     NA        \n",
            "Estudiante_4         75     66     60     NA        \n",
            "Estudiante_5         71     69     57     NA        \n",
            "Estudiante_6         51     54     55     NA        \n",
            "Estudiante_7         92     66     72     NA        \n",
            "Estudiante_8         100    87     99     95.33333333333333\n",
            "Estudiante_9         80     57     70     NA        \n",
            "Estudiante_10        61     82     68     NA        \n",
            "Estudiante_11        77     83     78     79.33333333333333\n",
            "Estudiante_12        94     99     82     91.66666666666667\n",
            "Estudiante_13        83     79     57     NA        \n",
            "Estudiante_14        57     89     82     NA        \n",
            "Estudiante_15        83     73     52     NA        \n",
            "\n",
            "TOTAL 15 ESTUDIANTES\n"
          ]
        }
      ],
      "source": [
        "import random\n",
        "\n",
        "# Generar nombres de ejemplo\n",
        "nombres = [f\"Estudiante_{i+1}\" for i in range(15)]\n",
        "\n",
        "# Generar notas aleatorias entre 0 y 100 para los 15 estudiantes\n",
        "estudiantes = []\n",
        "for nombre in nombres:\n",
        "    nota1 = random.randint(50, 100)  # Generar una nota entre 50 y 100\n",
        "    nota2 = random.randint(50, 100)\n",
        "    nota3 = random.randint(50, 100)\n",
        "\n",
        "    # Calcular la nota final si todas son mayores o iguales a 70\n",
        "    if nota1 >= 70 and nota2 >= 70 and nota3 >= 70:\n",
        "        nota_final = (nota1 + nota2 + nota3) / 3\n",
        "    else:\n",
        "        nota_final = \"NA\"  # No acreditado si alguna nota es menor a 70\n",
        "\n",
        "    # Añadir los datos a la lista\n",
        "    estudiantes.append([nombre, nota1, nota2, nota3, nota_final])\n",
        "\n",
        "# Imprimir el reporte de calificaciones\n",
        "print(\"\\nREPORTE DE CALIFICACIONES\")\n",
        "print(f\"{'NOMBRE':<20} {'NOTA1':<6} {'NOTA2':<6} {'NOTA3':<6} {'NOTA FINAL':<10}\")\n",
        "for estudiante in estudiantes:\n",
        "    nombre, nota1, nota2, nota3, nota_final = estudiante\n",
        "    print(f\"{nombre:<20} {nota1:<6} {nota2:<6} {nota3:<6} {nota_final:<10}\")\n",
        "\n",
        "# Total de estudiantes\n",
        "print(f\"\\nTOTAL {len(estudiantes)} ESTUDIANTES\")\n"
      ]
    }
  ]
}